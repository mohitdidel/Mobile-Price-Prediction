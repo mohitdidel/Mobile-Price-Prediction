{
 "cells": [
  {
   "cell_type": "code",
   "execution_count": 1,
   "id": "13472282-7d58-4514-abd7-b5036a661fdc",
   "metadata": {},
   "outputs": [
    {
     "name": "stderr",
     "output_type": "stream",
     "text": [
      "\n",
      "A module that was compiled using NumPy 1.x cannot be run in\n",
      "NumPy 2.0.2 as it may crash. To support both 1.x and 2.x\n",
      "versions of NumPy, modules must be compiled with NumPy 2.0.\n",
      "Some module may need to rebuild instead e.g. with 'pybind11>=2.12'.\n",
      "\n",
      "If you are a user of the module, the easiest solution will be to\n",
      "downgrade to 'numpy<2' or try to upgrade the affected module.\n",
      "We expect that some modules will need time to support NumPy 2.\n",
      "\n",
      "Traceback (most recent call last):  File \"<frozen runpy>\", line 198, in _run_module_as_main\n",
      "  File \"<frozen runpy>\", line 88, in _run_code\n",
      "  File \"C:\\Users\\Hi\\AppData\\Roaming\\Python\\Python312\\site-packages\\ipykernel_launcher.py\", line 18, in <module>\n",
      "    app.launch_new_instance()\n",
      "  File \"C:\\Users\\Hi\\AppData\\Roaming\\Python\\Python312\\site-packages\\traitlets\\config\\application.py\", line 1075, in launch_instance\n",
      "    app.start()\n",
      "  File \"C:\\Users\\Hi\\AppData\\Roaming\\Python\\Python312\\site-packages\\ipykernel\\kernelapp.py\", line 739, in start\n",
      "    self.io_loop.start()\n",
      "  File \"C:\\Users\\Hi\\AppData\\Roaming\\Python\\Python312\\site-packages\\tornado\\platform\\asyncio.py\", line 205, in start\n",
      "    self.asyncio_loop.run_forever()\n",
      "  File \"D:\\Anaconda\\Lib\\asyncio\\base_events.py\", line 641, in run_forever\n",
      "    self._run_once()\n",
      "  File \"D:\\Anaconda\\Lib\\asyncio\\base_events.py\", line 1986, in _run_once\n",
      "    handle._run()\n",
      "  File \"D:\\Anaconda\\Lib\\asyncio\\events.py\", line 88, in _run\n",
      "    self._context.run(self._callback, *self._args)\n",
      "  File \"C:\\Users\\Hi\\AppData\\Roaming\\Python\\Python312\\site-packages\\ipykernel\\kernelbase.py\", line 545, in dispatch_queue\n",
      "    await self.process_one()\n",
      "  File \"C:\\Users\\Hi\\AppData\\Roaming\\Python\\Python312\\site-packages\\ipykernel\\kernelbase.py\", line 534, in process_one\n",
      "    await dispatch(*args)\n",
      "  File \"C:\\Users\\Hi\\AppData\\Roaming\\Python\\Python312\\site-packages\\ipykernel\\kernelbase.py\", line 437, in dispatch_shell\n",
      "    await result\n",
      "  File \"C:\\Users\\Hi\\AppData\\Roaming\\Python\\Python312\\site-packages\\ipykernel\\ipkernel.py\", line 362, in execute_request\n",
      "    await super().execute_request(stream, ident, parent)\n",
      "  File \"C:\\Users\\Hi\\AppData\\Roaming\\Python\\Python312\\site-packages\\ipykernel\\kernelbase.py\", line 778, in execute_request\n",
      "    reply_content = await reply_content\n",
      "  File \"C:\\Users\\Hi\\AppData\\Roaming\\Python\\Python312\\site-packages\\ipykernel\\ipkernel.py\", line 449, in do_execute\n",
      "    res = shell.run_cell(\n",
      "  File \"C:\\Users\\Hi\\AppData\\Roaming\\Python\\Python312\\site-packages\\ipykernel\\zmqshell.py\", line 549, in run_cell\n",
      "    return super().run_cell(*args, **kwargs)\n",
      "  File \"C:\\Users\\Hi\\AppData\\Roaming\\Python\\Python312\\site-packages\\IPython\\core\\interactiveshell.py\", line 3075, in run_cell\n",
      "    result = self._run_cell(\n",
      "  File \"C:\\Users\\Hi\\AppData\\Roaming\\Python\\Python312\\site-packages\\IPython\\core\\interactiveshell.py\", line 3130, in _run_cell\n",
      "    result = runner(coro)\n",
      "  File \"C:\\Users\\Hi\\AppData\\Roaming\\Python\\Python312\\site-packages\\IPython\\core\\async_helpers.py\", line 128, in _pseudo_sync_runner\n",
      "    coro.send(None)\n",
      "  File \"C:\\Users\\Hi\\AppData\\Roaming\\Python\\Python312\\site-packages\\IPython\\core\\interactiveshell.py\", line 3334, in run_cell_async\n",
      "    has_raised = await self.run_ast_nodes(code_ast.body, cell_name,\n",
      "  File \"C:\\Users\\Hi\\AppData\\Roaming\\Python\\Python312\\site-packages\\IPython\\core\\interactiveshell.py\", line 3517, in run_ast_nodes\n",
      "    if await self.run_code(code, result, async_=asy):\n",
      "  File \"C:\\Users\\Hi\\AppData\\Roaming\\Python\\Python312\\site-packages\\IPython\\core\\interactiveshell.py\", line 3577, in run_code\n",
      "    exec(code_obj, self.user_global_ns, self.user_ns)\n",
      "  File \"C:\\Users\\Hi\\AppData\\Local\\Temp\\ipykernel_8856\\2481379207.py\", line 2, in <module>\n",
      "    import pandas as pd\n",
      "  File \"C:\\Users\\Hi\\AppData\\Roaming\\Python\\Python312\\site-packages\\pandas\\__init__.py\", line 62, in <module>\n",
      "    from pandas.core.api import (\n",
      "  File \"C:\\Users\\Hi\\AppData\\Roaming\\Python\\Python312\\site-packages\\pandas\\core\\api.py\", line 28, in <module>\n",
      "    from pandas.core.arrays import Categorical\n",
      "  File \"C:\\Users\\Hi\\AppData\\Roaming\\Python\\Python312\\site-packages\\pandas\\core\\arrays\\__init__.py\", line 1, in <module>\n",
      "    from pandas.core.arrays.arrow import ArrowExtensionArray\n",
      "  File \"C:\\Users\\Hi\\AppData\\Roaming\\Python\\Python312\\site-packages\\pandas\\core\\arrays\\arrow\\__init__.py\", line 5, in <module>\n",
      "    from pandas.core.arrays.arrow.array import ArrowExtensionArray\n",
      "  File \"C:\\Users\\Hi\\AppData\\Roaming\\Python\\Python312\\site-packages\\pandas\\core\\arrays\\arrow\\array.py\", line 50, in <module>\n",
      "    from pandas.core import (\n",
      "  File \"C:\\Users\\Hi\\AppData\\Roaming\\Python\\Python312\\site-packages\\pandas\\core\\ops\\__init__.py\", line 8, in <module>\n",
      "    from pandas.core.ops.array_ops import (\n",
      "  File \"C:\\Users\\Hi\\AppData\\Roaming\\Python\\Python312\\site-packages\\pandas\\core\\ops\\array_ops.py\", line 56, in <module>\n",
      "    from pandas.core.computation import expressions\n",
      "  File \"C:\\Users\\Hi\\AppData\\Roaming\\Python\\Python312\\site-packages\\pandas\\core\\computation\\expressions.py\", line 21, in <module>\n",
      "    from pandas.core.computation.check import NUMEXPR_INSTALLED\n",
      "  File \"C:\\Users\\Hi\\AppData\\Roaming\\Python\\Python312\\site-packages\\pandas\\core\\computation\\check.py\", line 5, in <module>\n",
      "    ne = import_optional_dependency(\"numexpr\", errors=\"warn\")\n",
      "  File \"C:\\Users\\Hi\\AppData\\Roaming\\Python\\Python312\\site-packages\\pandas\\compat\\_optional.py\", line 135, in import_optional_dependency\n",
      "    module = importlib.import_module(name)\n",
      "  File \"D:\\Anaconda\\Lib\\importlib\\__init__.py\", line 90, in import_module\n",
      "    return _bootstrap._gcd_import(name[level:], package, level)\n",
      "  File \"D:\\Anaconda\\Lib\\site-packages\\numexpr\\__init__.py\", line 24, in <module>\n",
      "    from numexpr.interpreter import MAX_THREADS, use_vml, __BLOCK_SIZE1__\n"
     ]
    },
    {
     "ename": "AttributeError",
     "evalue": "_ARRAY_API not found",
     "output_type": "error",
     "traceback": [
      "\u001b[1;31m---------------------------------------------------------------------------\u001b[0m",
      "\u001b[1;31mAttributeError\u001b[0m                            Traceback (most recent call last)",
      "\u001b[1;31mAttributeError\u001b[0m: _ARRAY_API not found"
     ]
    },
    {
     "name": "stderr",
     "output_type": "stream",
     "text": [
      "\n",
      "A module that was compiled using NumPy 1.x cannot be run in\n",
      "NumPy 2.0.2 as it may crash. To support both 1.x and 2.x\n",
      "versions of NumPy, modules must be compiled with NumPy 2.0.\n",
      "Some module may need to rebuild instead e.g. with 'pybind11>=2.12'.\n",
      "\n",
      "If you are a user of the module, the easiest solution will be to\n",
      "downgrade to 'numpy<2' or try to upgrade the affected module.\n",
      "We expect that some modules will need time to support NumPy 2.\n",
      "\n",
      "Traceback (most recent call last):  File \"<frozen runpy>\", line 198, in _run_module_as_main\n",
      "  File \"<frozen runpy>\", line 88, in _run_code\n",
      "  File \"C:\\Users\\Hi\\AppData\\Roaming\\Python\\Python312\\site-packages\\ipykernel_launcher.py\", line 18, in <module>\n",
      "    app.launch_new_instance()\n",
      "  File \"C:\\Users\\Hi\\AppData\\Roaming\\Python\\Python312\\site-packages\\traitlets\\config\\application.py\", line 1075, in launch_instance\n",
      "    app.start()\n",
      "  File \"C:\\Users\\Hi\\AppData\\Roaming\\Python\\Python312\\site-packages\\ipykernel\\kernelapp.py\", line 739, in start\n",
      "    self.io_loop.start()\n",
      "  File \"C:\\Users\\Hi\\AppData\\Roaming\\Python\\Python312\\site-packages\\tornado\\platform\\asyncio.py\", line 205, in start\n",
      "    self.asyncio_loop.run_forever()\n",
      "  File \"D:\\Anaconda\\Lib\\asyncio\\base_events.py\", line 641, in run_forever\n",
      "    self._run_once()\n",
      "  File \"D:\\Anaconda\\Lib\\asyncio\\base_events.py\", line 1986, in _run_once\n",
      "    handle._run()\n",
      "  File \"D:\\Anaconda\\Lib\\asyncio\\events.py\", line 88, in _run\n",
      "    self._context.run(self._callback, *self._args)\n",
      "  File \"C:\\Users\\Hi\\AppData\\Roaming\\Python\\Python312\\site-packages\\ipykernel\\kernelbase.py\", line 545, in dispatch_queue\n",
      "    await self.process_one()\n",
      "  File \"C:\\Users\\Hi\\AppData\\Roaming\\Python\\Python312\\site-packages\\ipykernel\\kernelbase.py\", line 534, in process_one\n",
      "    await dispatch(*args)\n",
      "  File \"C:\\Users\\Hi\\AppData\\Roaming\\Python\\Python312\\site-packages\\ipykernel\\kernelbase.py\", line 437, in dispatch_shell\n",
      "    await result\n",
      "  File \"C:\\Users\\Hi\\AppData\\Roaming\\Python\\Python312\\site-packages\\ipykernel\\ipkernel.py\", line 362, in execute_request\n",
      "    await super().execute_request(stream, ident, parent)\n",
      "  File \"C:\\Users\\Hi\\AppData\\Roaming\\Python\\Python312\\site-packages\\ipykernel\\kernelbase.py\", line 778, in execute_request\n",
      "    reply_content = await reply_content\n",
      "  File \"C:\\Users\\Hi\\AppData\\Roaming\\Python\\Python312\\site-packages\\ipykernel\\ipkernel.py\", line 449, in do_execute\n",
      "    res = shell.run_cell(\n",
      "  File \"C:\\Users\\Hi\\AppData\\Roaming\\Python\\Python312\\site-packages\\ipykernel\\zmqshell.py\", line 549, in run_cell\n",
      "    return super().run_cell(*args, **kwargs)\n",
      "  File \"C:\\Users\\Hi\\AppData\\Roaming\\Python\\Python312\\site-packages\\IPython\\core\\interactiveshell.py\", line 3075, in run_cell\n",
      "    result = self._run_cell(\n",
      "  File \"C:\\Users\\Hi\\AppData\\Roaming\\Python\\Python312\\site-packages\\IPython\\core\\interactiveshell.py\", line 3130, in _run_cell\n",
      "    result = runner(coro)\n",
      "  File \"C:\\Users\\Hi\\AppData\\Roaming\\Python\\Python312\\site-packages\\IPython\\core\\async_helpers.py\", line 128, in _pseudo_sync_runner\n",
      "    coro.send(None)\n",
      "  File \"C:\\Users\\Hi\\AppData\\Roaming\\Python\\Python312\\site-packages\\IPython\\core\\interactiveshell.py\", line 3334, in run_cell_async\n",
      "    has_raised = await self.run_ast_nodes(code_ast.body, cell_name,\n",
      "  File \"C:\\Users\\Hi\\AppData\\Roaming\\Python\\Python312\\site-packages\\IPython\\core\\interactiveshell.py\", line 3517, in run_ast_nodes\n",
      "    if await self.run_code(code, result, async_=asy):\n",
      "  File \"C:\\Users\\Hi\\AppData\\Roaming\\Python\\Python312\\site-packages\\IPython\\core\\interactiveshell.py\", line 3577, in run_code\n",
      "    exec(code_obj, self.user_global_ns, self.user_ns)\n",
      "  File \"C:\\Users\\Hi\\AppData\\Local\\Temp\\ipykernel_8856\\2481379207.py\", line 2, in <module>\n",
      "    import pandas as pd\n",
      "  File \"C:\\Users\\Hi\\AppData\\Roaming\\Python\\Python312\\site-packages\\pandas\\__init__.py\", line 62, in <module>\n",
      "    from pandas.core.api import (\n",
      "  File \"C:\\Users\\Hi\\AppData\\Roaming\\Python\\Python312\\site-packages\\pandas\\core\\api.py\", line 28, in <module>\n",
      "    from pandas.core.arrays import Categorical\n",
      "  File \"C:\\Users\\Hi\\AppData\\Roaming\\Python\\Python312\\site-packages\\pandas\\core\\arrays\\__init__.py\", line 1, in <module>\n",
      "    from pandas.core.arrays.arrow import ArrowExtensionArray\n",
      "  File \"C:\\Users\\Hi\\AppData\\Roaming\\Python\\Python312\\site-packages\\pandas\\core\\arrays\\arrow\\__init__.py\", line 5, in <module>\n",
      "    from pandas.core.arrays.arrow.array import ArrowExtensionArray\n",
      "  File \"C:\\Users\\Hi\\AppData\\Roaming\\Python\\Python312\\site-packages\\pandas\\core\\arrays\\arrow\\array.py\", line 64, in <module>\n",
      "    from pandas.core.arrays.masked import BaseMaskedArray\n",
      "  File \"C:\\Users\\Hi\\AppData\\Roaming\\Python\\Python312\\site-packages\\pandas\\core\\arrays\\masked.py\", line 60, in <module>\n",
      "    from pandas.core import (\n",
      "  File \"C:\\Users\\Hi\\AppData\\Roaming\\Python\\Python312\\site-packages\\pandas\\core\\nanops.py\", line 52, in <module>\n",
      "    bn = import_optional_dependency(\"bottleneck\", errors=\"warn\")\n",
      "  File \"C:\\Users\\Hi\\AppData\\Roaming\\Python\\Python312\\site-packages\\pandas\\compat\\_optional.py\", line 135, in import_optional_dependency\n",
      "    module = importlib.import_module(name)\n",
      "  File \"D:\\Anaconda\\Lib\\importlib\\__init__.py\", line 90, in import_module\n",
      "    return _bootstrap._gcd_import(name[level:], package, level)\n",
      "  File \"D:\\Anaconda\\Lib\\site-packages\\bottleneck\\__init__.py\", line 7, in <module>\n",
      "    from .move import (move_argmax, move_argmin, move_max, move_mean, move_median,\n"
     ]
    },
    {
     "ename": "ImportError",
     "evalue": "\nA module that was compiled using NumPy 1.x cannot be run in\nNumPy 2.0.2 as it may crash. To support both 1.x and 2.x\nversions of NumPy, modules must be compiled with NumPy 2.0.\nSome module may need to rebuild instead e.g. with 'pybind11>=2.12'.\n\nIf you are a user of the module, the easiest solution will be to\ndowngrade to 'numpy<2' or try to upgrade the affected module.\nWe expect that some modules will need time to support NumPy 2.\n\n",
     "output_type": "error",
     "traceback": [
      "\u001b[1;31m---------------------------------------------------------------------------\u001b[0m",
      "\u001b[1;31mImportError\u001b[0m                               Traceback (most recent call last)",
      "File \u001b[1;32m~\\AppData\\Roaming\\Python\\Python312\\site-packages\\numpy\\core\\_multiarray_umath.py:44\u001b[0m, in \u001b[0;36m__getattr__\u001b[1;34m(attr_name)\u001b[0m\n\u001b[0;32m     39\u001b[0m     \u001b[38;5;66;03m# Also print the message (with traceback).  This is because old versions\u001b[39;00m\n\u001b[0;32m     40\u001b[0m     \u001b[38;5;66;03m# of NumPy unfortunately set up the import to replace (and hide) the\u001b[39;00m\n\u001b[0;32m     41\u001b[0m     \u001b[38;5;66;03m# error.  The traceback shouldn't be needed, but e.g. pytest plugins\u001b[39;00m\n\u001b[0;32m     42\u001b[0m     \u001b[38;5;66;03m# seem to swallow it and we should be failing anyway...\u001b[39;00m\n\u001b[0;32m     43\u001b[0m     sys\u001b[38;5;241m.\u001b[39mstderr\u001b[38;5;241m.\u001b[39mwrite(msg \u001b[38;5;241m+\u001b[39m tb_msg)\n\u001b[1;32m---> 44\u001b[0m     \u001b[38;5;28;01mraise\u001b[39;00m \u001b[38;5;167;01mImportError\u001b[39;00m(msg)\n\u001b[0;32m     46\u001b[0m ret \u001b[38;5;241m=\u001b[39m \u001b[38;5;28mgetattr\u001b[39m(_multiarray_umath, attr_name, \u001b[38;5;28;01mNone\u001b[39;00m)\n\u001b[0;32m     47\u001b[0m \u001b[38;5;28;01mif\u001b[39;00m ret \u001b[38;5;129;01mis\u001b[39;00m \u001b[38;5;28;01mNone\u001b[39;00m:\n",
      "\u001b[1;31mImportError\u001b[0m: \nA module that was compiled using NumPy 1.x cannot be run in\nNumPy 2.0.2 as it may crash. To support both 1.x and 2.x\nversions of NumPy, modules must be compiled with NumPy 2.0.\nSome module may need to rebuild instead e.g. with 'pybind11>=2.12'.\n\nIf you are a user of the module, the easiest solution will be to\ndowngrade to 'numpy<2' or try to upgrade the affected module.\nWe expect that some modules will need time to support NumPy 2.\n\n"
     ]
    }
   ],
   "source": [
    "import numpy as np\n",
    "import pandas as pd \n"
   ]
  },
  {
   "cell_type": "code",
   "execution_count": 2,
   "id": "3ae14d07-e049-4d74-9028-56889e58b77e",
   "metadata": {},
   "outputs": [],
   "source": [
    "df=pd.read_csv(\"mobile_prices_2023.csv\")"
   ]
  },
  {
   "cell_type": "code",
   "execution_count": 3,
   "id": "a3b42554-e28a-4ab1-a443-81668d2cb86f",
   "metadata": {},
   "outputs": [
    {
     "data": {
      "text/html": [
       "<div>\n",
       "<style scoped>\n",
       "    .dataframe tbody tr th:only-of-type {\n",
       "        vertical-align: middle;\n",
       "    }\n",
       "\n",
       "    .dataframe tbody tr th {\n",
       "        vertical-align: top;\n",
       "    }\n",
       "\n",
       "    .dataframe thead th {\n",
       "        text-align: right;\n",
       "    }\n",
       "</style>\n",
       "<table border=\"1\" class=\"dataframe\">\n",
       "  <thead>\n",
       "    <tr style=\"text-align: right;\">\n",
       "      <th></th>\n",
       "      <th>Phone Name</th>\n",
       "      <th>Rating ?/5</th>\n",
       "      <th>Number of Ratings</th>\n",
       "      <th>RAM</th>\n",
       "      <th>ROM/Storage</th>\n",
       "      <th>Back/Rare Camera</th>\n",
       "      <th>Front Camera</th>\n",
       "      <th>Battery</th>\n",
       "      <th>Processor</th>\n",
       "      <th>Price in INR</th>\n",
       "      <th>Date of Scraping</th>\n",
       "    </tr>\n",
       "  </thead>\n",
       "  <tbody>\n",
       "    <tr>\n",
       "      <th>0</th>\n",
       "      <td>POCO C50 (Royal Blue, 32 GB)</td>\n",
       "      <td>4.2</td>\n",
       "      <td>33,561</td>\n",
       "      <td>2 GB RAM</td>\n",
       "      <td>32 GB ROM</td>\n",
       "      <td>8MP Dual Camera</td>\n",
       "      <td>5MP Front Camera</td>\n",
       "      <td>5000 mAh</td>\n",
       "      <td>Mediatek Helio A22 Processor, Upto 2.0 GHz Pro...</td>\n",
       "      <td>₹5,649</td>\n",
       "      <td>2023-06-17</td>\n",
       "    </tr>\n",
       "    <tr>\n",
       "      <th>1</th>\n",
       "      <td>POCO M4 5G (Cool Blue, 64 GB)</td>\n",
       "      <td>4.2</td>\n",
       "      <td>77,128</td>\n",
       "      <td>4 GB RAM</td>\n",
       "      <td>64 GB ROM</td>\n",
       "      <td>50MP + 2MP</td>\n",
       "      <td>8MP Front Camera</td>\n",
       "      <td>5000 mAh</td>\n",
       "      <td>Mediatek Dimensity 700 Processor</td>\n",
       "      <td>₹11,999</td>\n",
       "      <td>2023-06-17</td>\n",
       "    </tr>\n",
       "    <tr>\n",
       "      <th>2</th>\n",
       "      <td>POCO C51 (Royal Blue, 64 GB)</td>\n",
       "      <td>4.3</td>\n",
       "      <td>15,175</td>\n",
       "      <td>4 GB RAM</td>\n",
       "      <td>64 GB ROM</td>\n",
       "      <td>8MP Dual Rear Camera</td>\n",
       "      <td>5MP Front Camera</td>\n",
       "      <td>5000 mAh</td>\n",
       "      <td>Helio G36 Processor</td>\n",
       "      <td>₹6,999</td>\n",
       "      <td>2023-06-17</td>\n",
       "    </tr>\n",
       "    <tr>\n",
       "      <th>3</th>\n",
       "      <td>POCO C55 (Cool Blue, 64 GB)</td>\n",
       "      <td>4.2</td>\n",
       "      <td>22,621</td>\n",
       "      <td>4 GB RAM</td>\n",
       "      <td>64 GB ROM</td>\n",
       "      <td>50MP Dual Rear Camera</td>\n",
       "      <td>5MP Front Camera</td>\n",
       "      <td>5000 mAh</td>\n",
       "      <td>Mediatek Helio G85 Processor</td>\n",
       "      <td>₹7,749</td>\n",
       "      <td>2023-06-17</td>\n",
       "    </tr>\n",
       "    <tr>\n",
       "      <th>4</th>\n",
       "      <td>POCO C51 (Power Black, 64 GB)</td>\n",
       "      <td>4.3</td>\n",
       "      <td>15,175</td>\n",
       "      <td>4 GB RAM</td>\n",
       "      <td>64 GB ROM</td>\n",
       "      <td>8MP Dual Rear Camera</td>\n",
       "      <td>5MP Front Camera</td>\n",
       "      <td>5000 mAh</td>\n",
       "      <td>Helio G36 Processor</td>\n",
       "      <td>₹6,999</td>\n",
       "      <td>2023-06-17</td>\n",
       "    </tr>\n",
       "  </tbody>\n",
       "</table>\n",
       "</div>"
      ],
      "text/plain": [
       "                      Phone Name  Rating ?/5 Number of Ratings       RAM  \\\n",
       "0   POCO C50 (Royal Blue, 32 GB)         4.2            33,561  2 GB RAM   \n",
       "1  POCO M4 5G (Cool Blue, 64 GB)         4.2            77,128  4 GB RAM   \n",
       "2   POCO C51 (Royal Blue, 64 GB)         4.3            15,175  4 GB RAM   \n",
       "3    POCO C55 (Cool Blue, 64 GB)         4.2            22,621  4 GB RAM   \n",
       "4  POCO C51 (Power Black, 64 GB)         4.3            15,175  4 GB RAM   \n",
       "\n",
       "  ROM/Storage       Back/Rare Camera      Front Camera   Battery  \\\n",
       "0   32 GB ROM        8MP Dual Camera  5MP Front Camera  5000 mAh   \n",
       "1   64 GB ROM             50MP + 2MP  8MP Front Camera  5000 mAh   \n",
       "2   64 GB ROM   8MP Dual Rear Camera  5MP Front Camera  5000 mAh   \n",
       "3   64 GB ROM  50MP Dual Rear Camera  5MP Front Camera  5000 mAh   \n",
       "4   64 GB ROM   8MP Dual Rear Camera  5MP Front Camera  5000 mAh   \n",
       "\n",
       "                                           Processor Price in INR  \\\n",
       "0  Mediatek Helio A22 Processor, Upto 2.0 GHz Pro...       ₹5,649   \n",
       "1                   Mediatek Dimensity 700 Processor      ₹11,999   \n",
       "2                                Helio G36 Processor       ₹6,999   \n",
       "3                       Mediatek Helio G85 Processor       ₹7,749   \n",
       "4                                Helio G36 Processor       ₹6,999   \n",
       "\n",
       "  Date of Scraping  \n",
       "0       2023-06-17  \n",
       "1       2023-06-17  \n",
       "2       2023-06-17  \n",
       "3       2023-06-17  \n",
       "4       2023-06-17  "
      ]
     },
     "execution_count": 3,
     "metadata": {},
     "output_type": "execute_result"
    }
   ],
   "source": [
    "df.head(5)"
   ]
  },
  {
   "cell_type": "code",
   "execution_count": 4,
   "id": "a1967dd5-c128-4c13-96ef-15943690c9a9",
   "metadata": {},
   "outputs": [
    {
     "name": "stdout",
     "output_type": "stream",
     "text": [
      "<class 'pandas.core.frame.DataFrame'>\n",
      "RangeIndex: 1836 entries, 0 to 1835\n",
      "Data columns (total 11 columns):\n",
      " #   Column             Non-Null Count  Dtype  \n",
      "---  ------             --------------  -----  \n",
      " 0   Phone Name         1836 non-null   object \n",
      " 1   Rating ?/5         1836 non-null   float64\n",
      " 2   Number of Ratings  1836 non-null   object \n",
      " 3   RAM                1836 non-null   object \n",
      " 4   ROM/Storage        1662 non-null   object \n",
      " 5   Back/Rare Camera   1827 non-null   object \n",
      " 6   Front Camera       1435 non-null   object \n",
      " 7   Battery            1826 non-null   object \n",
      " 8   Processor          1781 non-null   object \n",
      " 9   Price in INR       1836 non-null   object \n",
      " 10  Date of Scraping   1836 non-null   object \n",
      "dtypes: float64(1), object(10)\n",
      "memory usage: 157.9+ KB\n"
     ]
    }
   ],
   "source": [
    "df.info()"
   ]
  },
  {
   "cell_type": "code",
   "execution_count": 5,
   "id": "caf354bd-718b-482b-b8c4-2e99e7054807",
   "metadata": {},
   "outputs": [
    {
     "data": {
      "text/plain": [
       "np.int64(69)"
      ]
     },
     "execution_count": 5,
     "metadata": {},
     "output_type": "execute_result"
    }
   ],
   "source": [
    "df.duplicated().sum()"
   ]
  },
  {
   "cell_type": "code",
   "execution_count": 6,
   "id": "6d25f497-33b3-44f5-98dc-3588215836e4",
   "metadata": {},
   "outputs": [
    {
     "data": {
      "text/plain": [
       "(1836, 11)"
      ]
     },
     "execution_count": 6,
     "metadata": {},
     "output_type": "execute_result"
    }
   ],
   "source": [
    "df.shape"
   ]
  },
  {
   "cell_type": "code",
   "execution_count": 7,
   "id": "23753ee4-a1d6-4b06-bc66-28cb1d8ba3df",
   "metadata": {},
   "outputs": [],
   "source": [
    "df.drop_duplicates(inplace=True)"
   ]
  },
  {
   "cell_type": "code",
   "execution_count": 8,
   "id": "832dd800-97bc-4671-85e0-003eebccecfc",
   "metadata": {},
   "outputs": [
    {
     "data": {
      "text/plain": [
       "np.int64(0)"
      ]
     },
     "execution_count": 8,
     "metadata": {},
     "output_type": "execute_result"
    }
   ],
   "source": [
    "df.duplicated().sum()"
   ]
  },
  {
   "cell_type": "code",
   "execution_count": 9,
   "id": "76f15bbd-fbaf-42a8-955a-27694951392f",
   "metadata": {},
   "outputs": [
    {
     "data": {
      "text/plain": [
       "Phone Name             0\n",
       "Rating ?/5             0\n",
       "Number of Ratings      0\n",
       "RAM                    0\n",
       "ROM/Storage          162\n",
       "Back/Rare Camera       8\n",
       "Front Camera         381\n",
       "Battery                9\n",
       "Processor             49\n",
       "Price in INR           0\n",
       "Date of Scraping       0\n",
       "dtype: int64"
      ]
     },
     "execution_count": 9,
     "metadata": {},
     "output_type": "execute_result"
    }
   ],
   "source": [
    "df.isnull().sum()"
   ]
  },
  {
   "cell_type": "code",
   "execution_count": 10,
   "id": "cc64bfb2-b626-4a8c-b90c-07cb48695711",
   "metadata": {},
   "outputs": [],
   "source": [
    "df.dropna(inplace=True)"
   ]
  },
  {
   "cell_type": "code",
   "execution_count": 11,
   "id": "3efb97e5-1445-48ca-8183-67a8d47032b9",
   "metadata": {},
   "outputs": [
    {
     "data": {
      "text/html": [
       "<div>\n",
       "<style scoped>\n",
       "    .dataframe tbody tr th:only-of-type {\n",
       "        vertical-align: middle;\n",
       "    }\n",
       "\n",
       "    .dataframe tbody tr th {\n",
       "        vertical-align: top;\n",
       "    }\n",
       "\n",
       "    .dataframe thead th {\n",
       "        text-align: right;\n",
       "    }\n",
       "</style>\n",
       "<table border=\"1\" class=\"dataframe\">\n",
       "  <thead>\n",
       "    <tr style=\"text-align: right;\">\n",
       "      <th></th>\n",
       "      <th>Phone Name</th>\n",
       "      <th>Rating ?/5</th>\n",
       "      <th>Number of Ratings</th>\n",
       "      <th>RAM</th>\n",
       "      <th>ROM/Storage</th>\n",
       "      <th>Back/Rare Camera</th>\n",
       "      <th>Front Camera</th>\n",
       "      <th>Battery</th>\n",
       "      <th>Processor</th>\n",
       "      <th>Price in INR</th>\n",
       "      <th>Date of Scraping</th>\n",
       "    </tr>\n",
       "  </thead>\n",
       "  <tbody>\n",
       "    <tr>\n",
       "      <th>0</th>\n",
       "      <td>POCO C50 (Royal Blue, 32 GB)</td>\n",
       "      <td>4.2</td>\n",
       "      <td>33,561</td>\n",
       "      <td>2 GB RAM</td>\n",
       "      <td>32 GB ROM</td>\n",
       "      <td>8MP Dual Camera</td>\n",
       "      <td>5MP Front Camera</td>\n",
       "      <td>5000 mAh</td>\n",
       "      <td>Mediatek Helio A22 Processor, Upto 2.0 GHz Pro...</td>\n",
       "      <td>₹5,649</td>\n",
       "      <td>2023-06-17</td>\n",
       "    </tr>\n",
       "    <tr>\n",
       "      <th>1</th>\n",
       "      <td>POCO M4 5G (Cool Blue, 64 GB)</td>\n",
       "      <td>4.2</td>\n",
       "      <td>77,128</td>\n",
       "      <td>4 GB RAM</td>\n",
       "      <td>64 GB ROM</td>\n",
       "      <td>50MP + 2MP</td>\n",
       "      <td>8MP Front Camera</td>\n",
       "      <td>5000 mAh</td>\n",
       "      <td>Mediatek Dimensity 700 Processor</td>\n",
       "      <td>₹11,999</td>\n",
       "      <td>2023-06-17</td>\n",
       "    </tr>\n",
       "    <tr>\n",
       "      <th>2</th>\n",
       "      <td>POCO C51 (Royal Blue, 64 GB)</td>\n",
       "      <td>4.3</td>\n",
       "      <td>15,175</td>\n",
       "      <td>4 GB RAM</td>\n",
       "      <td>64 GB ROM</td>\n",
       "      <td>8MP Dual Rear Camera</td>\n",
       "      <td>5MP Front Camera</td>\n",
       "      <td>5000 mAh</td>\n",
       "      <td>Helio G36 Processor</td>\n",
       "      <td>₹6,999</td>\n",
       "      <td>2023-06-17</td>\n",
       "    </tr>\n",
       "    <tr>\n",
       "      <th>3</th>\n",
       "      <td>POCO C55 (Cool Blue, 64 GB)</td>\n",
       "      <td>4.2</td>\n",
       "      <td>22,621</td>\n",
       "      <td>4 GB RAM</td>\n",
       "      <td>64 GB ROM</td>\n",
       "      <td>50MP Dual Rear Camera</td>\n",
       "      <td>5MP Front Camera</td>\n",
       "      <td>5000 mAh</td>\n",
       "      <td>Mediatek Helio G85 Processor</td>\n",
       "      <td>₹7,749</td>\n",
       "      <td>2023-06-17</td>\n",
       "    </tr>\n",
       "    <tr>\n",
       "      <th>4</th>\n",
       "      <td>POCO C51 (Power Black, 64 GB)</td>\n",
       "      <td>4.3</td>\n",
       "      <td>15,175</td>\n",
       "      <td>4 GB RAM</td>\n",
       "      <td>64 GB ROM</td>\n",
       "      <td>8MP Dual Rear Camera</td>\n",
       "      <td>5MP Front Camera</td>\n",
       "      <td>5000 mAh</td>\n",
       "      <td>Helio G36 Processor</td>\n",
       "      <td>₹6,999</td>\n",
       "      <td>2023-06-17</td>\n",
       "    </tr>\n",
       "    <tr>\n",
       "      <th>...</th>\n",
       "      <td>...</td>\n",
       "      <td>...</td>\n",
       "      <td>...</td>\n",
       "      <td>...</td>\n",
       "      <td>...</td>\n",
       "      <td>...</td>\n",
       "      <td>...</td>\n",
       "      <td>...</td>\n",
       "      <td>...</td>\n",
       "      <td>...</td>\n",
       "      <td>...</td>\n",
       "    </tr>\n",
       "    <tr>\n",
       "      <th>1831</th>\n",
       "      <td>Infinix Note 7 (Forest Green, 64 GB)</td>\n",
       "      <td>4.3</td>\n",
       "      <td>25,582</td>\n",
       "      <td>4 GB RAM</td>\n",
       "      <td>64 GB ROM</td>\n",
       "      <td>48MP + 2MP + 2MP + AI Lens Camera</td>\n",
       "      <td>16MP Front Camera</td>\n",
       "      <td>5000 mAh</td>\n",
       "      <td>MediaTek Helio G70 Processor</td>\n",
       "      <td>₹14,999</td>\n",
       "      <td>2023-06-17</td>\n",
       "    </tr>\n",
       "    <tr>\n",
       "      <th>1832</th>\n",
       "      <td>Infinix Note 7 (Bolivia Blue, 64 GB)</td>\n",
       "      <td>4.3</td>\n",
       "      <td>25,582</td>\n",
       "      <td>4 GB RAM</td>\n",
       "      <td>64 GB ROM</td>\n",
       "      <td>48MP + 2MP + 2MP + AI Lens Camera</td>\n",
       "      <td>16MP Front Camera</td>\n",
       "      <td>5000 mAh</td>\n",
       "      <td>MediaTek Helio G70 Processor</td>\n",
       "      <td>₹14,999</td>\n",
       "      <td>2023-06-17</td>\n",
       "    </tr>\n",
       "    <tr>\n",
       "      <th>1833</th>\n",
       "      <td>Infinix Note 7 (Aether Black, 64 GB)</td>\n",
       "      <td>4.3</td>\n",
       "      <td>25,582</td>\n",
       "      <td>4 GB RAM</td>\n",
       "      <td>64 GB ROM</td>\n",
       "      <td>48MP + 2MP + 2MP + AI Lens Camera</td>\n",
       "      <td>16MP Front Camera</td>\n",
       "      <td>5000 mAh</td>\n",
       "      <td>MediaTek Helio G70 Processor</td>\n",
       "      <td>₹14,999</td>\n",
       "      <td>2023-06-17</td>\n",
       "    </tr>\n",
       "    <tr>\n",
       "      <th>1834</th>\n",
       "      <td>Infinix Zero 8i (Silver Diamond, 128 GB)</td>\n",
       "      <td>4.2</td>\n",
       "      <td>7,117</td>\n",
       "      <td>8 GB RAM</td>\n",
       "      <td>128 GB ROM</td>\n",
       "      <td>48MP + 8MP + 2MP + AI Lens Camera</td>\n",
       "      <td>16MP + 8MP Dual Front Camera</td>\n",
       "      <td>4500 mAh</td>\n",
       "      <td>MediaTek Helio G90T Processor</td>\n",
       "      <td>₹18,999</td>\n",
       "      <td>2023-06-17</td>\n",
       "    </tr>\n",
       "    <tr>\n",
       "      <th>1835</th>\n",
       "      <td>Infinix S5 (Quetzal Cyan, 64 GB)</td>\n",
       "      <td>4.3</td>\n",
       "      <td>15,701</td>\n",
       "      <td>4 GB RAM</td>\n",
       "      <td>64 GB ROM</td>\n",
       "      <td>16MP + 5MP + 2MP + Low Light Sensor</td>\n",
       "      <td>32MP Front Camera</td>\n",
       "      <td>4000 mAh</td>\n",
       "      <td>Helio P22 (MTK6762) Processor</td>\n",
       "      <td>₹10,999</td>\n",
       "      <td>2023-06-17</td>\n",
       "    </tr>\n",
       "  </tbody>\n",
       "</table>\n",
       "<p>1252 rows × 11 columns</p>\n",
       "</div>"
      ],
      "text/plain": [
       "                                    Phone Name  Rating ?/5 Number of Ratings  \\\n",
       "0                 POCO C50 (Royal Blue, 32 GB)         4.2            33,561   \n",
       "1                POCO M4 5G (Cool Blue, 64 GB)         4.2            77,128   \n",
       "2                 POCO C51 (Royal Blue, 64 GB)         4.3            15,175   \n",
       "3                  POCO C55 (Cool Blue, 64 GB)         4.2            22,621   \n",
       "4                POCO C51 (Power Black, 64 GB)         4.3            15,175   \n",
       "...                                        ...         ...               ...   \n",
       "1831      Infinix Note 7 (Forest Green, 64 GB)         4.3            25,582   \n",
       "1832      Infinix Note 7 (Bolivia Blue, 64 GB)         4.3            25,582   \n",
       "1833      Infinix Note 7 (Aether Black, 64 GB)         4.3            25,582   \n",
       "1834  Infinix Zero 8i (Silver Diamond, 128 GB)         4.2             7,117   \n",
       "1835          Infinix S5 (Quetzal Cyan, 64 GB)         4.3            15,701   \n",
       "\n",
       "           RAM ROM/Storage                     Back/Rare Camera  \\\n",
       "0     2 GB RAM   32 GB ROM                      8MP Dual Camera   \n",
       "1     4 GB RAM   64 GB ROM                           50MP + 2MP   \n",
       "2     4 GB RAM   64 GB ROM                 8MP Dual Rear Camera   \n",
       "3     4 GB RAM   64 GB ROM                50MP Dual Rear Camera   \n",
       "4     4 GB RAM   64 GB ROM                 8MP Dual Rear Camera   \n",
       "...        ...         ...                                  ...   \n",
       "1831  4 GB RAM   64 GB ROM    48MP + 2MP + 2MP + AI Lens Camera   \n",
       "1832  4 GB RAM   64 GB ROM    48MP + 2MP + 2MP + AI Lens Camera   \n",
       "1833  4 GB RAM   64 GB ROM    48MP + 2MP + 2MP + AI Lens Camera   \n",
       "1834  8 GB RAM  128 GB ROM    48MP + 8MP + 2MP + AI Lens Camera   \n",
       "1835  4 GB RAM   64 GB ROM  16MP + 5MP + 2MP + Low Light Sensor   \n",
       "\n",
       "                      Front Camera   Battery  \\\n",
       "0                 5MP Front Camera  5000 mAh   \n",
       "1                 8MP Front Camera  5000 mAh   \n",
       "2                 5MP Front Camera  5000 mAh   \n",
       "3                 5MP Front Camera  5000 mAh   \n",
       "4                 5MP Front Camera  5000 mAh   \n",
       "...                            ...       ...   \n",
       "1831             16MP Front Camera  5000 mAh   \n",
       "1832             16MP Front Camera  5000 mAh   \n",
       "1833             16MP Front Camera  5000 mAh   \n",
       "1834  16MP + 8MP Dual Front Camera  4500 mAh   \n",
       "1835             32MP Front Camera  4000 mAh   \n",
       "\n",
       "                                              Processor Price in INR  \\\n",
       "0     Mediatek Helio A22 Processor, Upto 2.0 GHz Pro...       ₹5,649   \n",
       "1                      Mediatek Dimensity 700 Processor      ₹11,999   \n",
       "2                                   Helio G36 Processor       ₹6,999   \n",
       "3                          Mediatek Helio G85 Processor       ₹7,749   \n",
       "4                                   Helio G36 Processor       ₹6,999   \n",
       "...                                                 ...          ...   \n",
       "1831                       MediaTek Helio G70 Processor      ₹14,999   \n",
       "1832                       MediaTek Helio G70 Processor      ₹14,999   \n",
       "1833                       MediaTek Helio G70 Processor      ₹14,999   \n",
       "1834                      MediaTek Helio G90T Processor      ₹18,999   \n",
       "1835                      Helio P22 (MTK6762) Processor      ₹10,999   \n",
       "\n",
       "     Date of Scraping  \n",
       "0          2023-06-17  \n",
       "1          2023-06-17  \n",
       "2          2023-06-17  \n",
       "3          2023-06-17  \n",
       "4          2023-06-17  \n",
       "...               ...  \n",
       "1831       2023-06-17  \n",
       "1832       2023-06-17  \n",
       "1833       2023-06-17  \n",
       "1834       2023-06-17  \n",
       "1835       2023-06-17  \n",
       "\n",
       "[1252 rows x 11 columns]"
      ]
     },
     "execution_count": 11,
     "metadata": {},
     "output_type": "execute_result"
    }
   ],
   "source": [
    "df"
   ]
  },
  {
   "cell_type": "code",
   "execution_count": 12,
   "id": "37dc7f5e-1226-40d9-86b1-867a059514c4",
   "metadata": {},
   "outputs": [
    {
     "data": {
      "text/plain": [
       "(1252, 11)"
      ]
     },
     "execution_count": 12,
     "metadata": {},
     "output_type": "execute_result"
    }
   ],
   "source": [
    "df.shape"
   ]
  },
  {
   "cell_type": "code",
   "execution_count": 13,
   "id": "0255d36c-409e-4e90-856b-5cc6b92ab21a",
   "metadata": {},
   "outputs": [],
   "source": [
    "df.drop(columns=['Date of Scraping'],inplace=True)"
   ]
  },
  {
   "cell_type": "code",
   "execution_count": 14,
   "id": "328a0bed-ade1-460f-a471-90ab2696e031",
   "metadata": {},
   "outputs": [
    {
     "data": {
      "text/plain": [
       "0                    [POCO, C50, (Royal, Blue,, 32, GB)]\n",
       "1                  [POCO, M4, 5G, (Cool, Blue,, 64, GB)]\n",
       "2                    [POCO, C51, (Royal, Blue,, 64, GB)]\n",
       "3                     [POCO, C55, (Cool, Blue,, 64, GB)]\n",
       "4                   [POCO, C51, (Power, Black,, 64, GB)]\n",
       "                              ...                       \n",
       "1831        [Infinix, Note, 7, (Forest, Green,, 64, GB)]\n",
       "1832        [Infinix, Note, 7, (Bolivia, Blue,, 64, GB)]\n",
       "1833        [Infinix, Note, 7, (Aether, Black,, 64, GB)]\n",
       "1834    [Infinix, Zero, 8i, (Silver, Diamond,, 128, GB)]\n",
       "1835             [Infinix, S5, (Quetzal, Cyan,, 64, GB)]\n",
       "Name: Phone Name, Length: 1252, dtype: object"
      ]
     },
     "execution_count": 14,
     "metadata": {},
     "output_type": "execute_result"
    }
   ],
   "source": [
    "df['Phone Name'].str.split()"
   ]
  },
  {
   "cell_type": "code",
   "execution_count": 15,
   "id": "44a15ee6-673b-4b00-9165-329a1637853c",
   "metadata": {},
   "outputs": [],
   "source": [
    "import re\n",
    "def remove_parentheses(text):\n",
    "    if isinstance(text, str):\n",
    "        return re.sub(r\"\\s*\\(.*?\\)\", \"\", text)\n",
    "    return text\n",
    "df['Phone Name'] = df['Phone Name'].apply(remove_parentheses)"
   ]
  },
  {
   "cell_type": "code",
   "execution_count": 16,
   "id": "da09fd5e-fd24-41f8-ae26-a4f5ae683d03",
   "metadata": {},
   "outputs": [],
   "source": [
    "df['Price in INR']=df['Price in INR'].str.replace('₹','').str.replace(',','')"
   ]
  },
  {
   "cell_type": "code",
   "execution_count": 17,
   "id": "6e297fb1-7327-4dd3-8a3a-6b905fd7c656",
   "metadata": {},
   "outputs": [],
   "source": [
    "df['Price in INR']=df['Price in INR'].astype(int)"
   ]
  },
  {
   "cell_type": "code",
   "execution_count": 18,
   "id": "534b1994-da45-4b86-8ffe-10e2ce0f1ae9",
   "metadata": {},
   "outputs": [
    {
     "name": "stdout",
     "output_type": "stream",
     "text": [
      "<class 'pandas.core.frame.DataFrame'>\n",
      "Index: 1252 entries, 0 to 1835\n",
      "Data columns (total 10 columns):\n",
      " #   Column             Non-Null Count  Dtype  \n",
      "---  ------             --------------  -----  \n",
      " 0   Phone Name         1252 non-null   object \n",
      " 1   Rating ?/5         1252 non-null   float64\n",
      " 2   Number of Ratings  1252 non-null   object \n",
      " 3   RAM                1252 non-null   object \n",
      " 4   ROM/Storage        1252 non-null   object \n",
      " 5   Back/Rare Camera   1252 non-null   object \n",
      " 6   Front Camera       1252 non-null   object \n",
      " 7   Battery            1252 non-null   object \n",
      " 8   Processor          1252 non-null   object \n",
      " 9   Price in INR       1252 non-null   int64  \n",
      "dtypes: float64(1), int64(1), object(8)\n",
      "memory usage: 107.6+ KB\n"
     ]
    }
   ],
   "source": [
    "df.info()"
   ]
  },
  {
   "cell_type": "code",
   "execution_count": 19,
   "id": "f1c616c2-8f86-4159-9c17-9fee592097b4",
   "metadata": {},
   "outputs": [
    {
     "data": {
      "text/plain": [
       "array(['2 GB RAM', '4 GB RAM', '6 GB RAM', '3 GB RAM', '8 GB RAM',\n",
       "       '12 GB RAM', '8 MB RAM', '1 GB RAM', '16 MB RAM', '512 MB RAM',\n",
       "       '1.5 GB RAM'], dtype=object)"
      ]
     },
     "execution_count": 19,
     "metadata": {},
     "output_type": "execute_result"
    }
   ],
   "source": [
    "df['RAM'].unique()"
   ]
  },
  {
   "cell_type": "code",
   "execution_count": 20,
   "id": "8e39c1db-8477-4c9a-be0e-33f290d490b8",
   "metadata": {},
   "outputs": [],
   "source": [
    "df = df[df['RAM'] != '1.5 GB RAM']"
   ]
  },
  {
   "cell_type": "code",
   "execution_count": 21,
   "id": "6c002c48-bf8a-4f5e-919e-56779b8c72a3",
   "metadata": {},
   "outputs": [
    {
     "data": {
      "text/plain": [
       "array(['2 GB RAM', '4 GB RAM', '6 GB RAM', '3 GB RAM', '8 GB RAM',\n",
       "       '12 GB RAM', '8 MB RAM', '1 GB RAM', '16 MB RAM', '512 MB RAM'],\n",
       "      dtype=object)"
      ]
     },
     "execution_count": 21,
     "metadata": {},
     "output_type": "execute_result"
    }
   ],
   "source": [
    "df['RAM'].unique()"
   ]
  },
  {
   "cell_type": "code",
   "execution_count": 22,
   "id": "919a266b-adeb-4658-bd00-37b1dab93edf",
   "metadata": {},
   "outputs": [
    {
     "data": {
      "text/plain": [
       "0       [2, GB, RAM]\n",
       "1       [4, GB, RAM]\n",
       "2       [4, GB, RAM]\n",
       "3       [4, GB, RAM]\n",
       "4       [4, GB, RAM]\n",
       "            ...     \n",
       "1831    [4, GB, RAM]\n",
       "1832    [4, GB, RAM]\n",
       "1833    [4, GB, RAM]\n",
       "1834    [8, GB, RAM]\n",
       "1835    [4, GB, RAM]\n",
       "Name: RAM, Length: 1251, dtype: object"
      ]
     },
     "execution_count": 22,
     "metadata": {},
     "output_type": "execute_result"
    }
   ],
   "source": [
    "df['RAM'].str.split()"
   ]
  },
  {
   "cell_type": "code",
   "execution_count": 23,
   "id": "2d6d6688-ccdc-42a6-9039-3bbf7d7c6583",
   "metadata": {},
   "outputs": [
    {
     "name": "stderr",
     "output_type": "stream",
     "text": [
      "C:\\Users\\Hi\\AppData\\Local\\Temp\\ipykernel_8856\\4246661828.py:1: SettingWithCopyWarning: \n",
      "A value is trying to be set on a copy of a slice from a DataFrame.\n",
      "Try using .loc[row_indexer,col_indexer] = value instead\n",
      "\n",
      "See the caveats in the documentation: https://pandas.pydata.org/pandas-docs/stable/user_guide/indexing.html#returning-a-view-versus-a-copy\n",
      "  df['RAM'] = df['RAM'].apply(lambda x: int(x.split()[0]) * 1024 if 'GB' in x else int(x.split()[0]))\n"
     ]
    }
   ],
   "source": [
    "df['RAM'] = df['RAM'].apply(lambda x: int(x.split()[0]) * 1024 if 'GB' in x else int(x.split()[0]))"
   ]
  },
  {
   "cell_type": "code",
   "execution_count": 24,
   "id": "24162b9d-9548-47d5-86b2-e074f2abb15f",
   "metadata": {},
   "outputs": [
    {
     "name": "stderr",
     "output_type": "stream",
     "text": [
      "C:\\Users\\Hi\\AppData\\Local\\Temp\\ipykernel_8856\\614358092.py:1: SettingWithCopyWarning: \n",
      "A value is trying to be set on a copy of a slice from a DataFrame.\n",
      "Try using .loc[row_indexer,col_indexer] = value instead\n",
      "\n",
      "See the caveats in the documentation: https://pandas.pydata.org/pandas-docs/stable/user_guide/indexing.html#returning-a-view-versus-a-copy\n",
      "  df['Battery']=df['Battery'].str.replace(\"mAh\",'')\n"
     ]
    }
   ],
   "source": [
    "df['Battery']=df['Battery'].str.replace(\"mAh\",'')"
   ]
  },
  {
   "cell_type": "code",
   "execution_count": 25,
   "id": "83678e81-a08a-4c61-b9d3-fed673357e11",
   "metadata": {},
   "outputs": [
    {
     "data": {
      "text/plain": [
       "array(['32 GB ROM', '64 GB ROM', '128 GB ROM', '256 GB ROM', '0 GB ROM',\n",
       "       '512 GB ROM', '16 GB ROM', '8 GB ROM', 'NA ROM', '4 GB ROM'],\n",
       "      dtype=object)"
      ]
     },
     "execution_count": 25,
     "metadata": {},
     "output_type": "execute_result"
    }
   ],
   "source": [
    "df['ROM/Storage'].unique()"
   ]
  },
  {
   "cell_type": "code",
   "execution_count": 26,
   "id": "8ab30cb8-444f-4c72-843c-7fd3fcf99da1",
   "metadata": {},
   "outputs": [],
   "source": [
    "df = df[df['ROM/Storage'] != '0 GB ROM']"
   ]
  },
  {
   "cell_type": "code",
   "execution_count": 27,
   "id": "df4d2bbf-9548-4ed7-8a0a-49775bfcc48f",
   "metadata": {},
   "outputs": [
    {
     "data": {
      "text/plain": [
       "array(['32 GB ROM', '64 GB ROM', '128 GB ROM', '256 GB ROM', '512 GB ROM',\n",
       "       '16 GB ROM', '8 GB ROM', 'NA ROM', '4 GB ROM'], dtype=object)"
      ]
     },
     "execution_count": 27,
     "metadata": {},
     "output_type": "execute_result"
    }
   ],
   "source": [
    "df['ROM/Storage'].unique()"
   ]
  },
  {
   "cell_type": "code",
   "execution_count": 28,
   "id": "edfe04d3-1403-4c31-a3c0-be4ef0f92633",
   "metadata": {},
   "outputs": [],
   "source": [
    "df['ROM/Storage'] = df['ROM/Storage'].apply(lambda x: int(x.split()[0]) if isinstance(x, str) and 'NA' not in x else np.nan)\n",
    "df = df.dropna()\n",
    "df['ROM/Storage'] = df['ROM/Storage'].astype(int)"
   ]
  },
  {
   "cell_type": "code",
   "execution_count": 29,
   "id": "a0a591c2-5444-484c-824c-42f3e7d41f89",
   "metadata": {},
   "outputs": [
    {
     "data": {
      "text/html": [
       "<div>\n",
       "<style scoped>\n",
       "    .dataframe tbody tr th:only-of-type {\n",
       "        vertical-align: middle;\n",
       "    }\n",
       "\n",
       "    .dataframe tbody tr th {\n",
       "        vertical-align: top;\n",
       "    }\n",
       "\n",
       "    .dataframe thead th {\n",
       "        text-align: right;\n",
       "    }\n",
       "</style>\n",
       "<table border=\"1\" class=\"dataframe\">\n",
       "  <thead>\n",
       "    <tr style=\"text-align: right;\">\n",
       "      <th></th>\n",
       "      <th>Phone Name</th>\n",
       "      <th>Rating ?/5</th>\n",
       "      <th>Number of Ratings</th>\n",
       "      <th>RAM</th>\n",
       "      <th>ROM/Storage</th>\n",
       "      <th>Back/Rare Camera</th>\n",
       "      <th>Front Camera</th>\n",
       "      <th>Battery</th>\n",
       "      <th>Processor</th>\n",
       "      <th>Price in INR</th>\n",
       "    </tr>\n",
       "  </thead>\n",
       "  <tbody>\n",
       "    <tr>\n",
       "      <th>0</th>\n",
       "      <td>POCO C50</td>\n",
       "      <td>4.2</td>\n",
       "      <td>33,561</td>\n",
       "      <td>2048</td>\n",
       "      <td>32</td>\n",
       "      <td>8MP Dual Camera</td>\n",
       "      <td>5MP Front Camera</td>\n",
       "      <td>5000</td>\n",
       "      <td>Mediatek Helio A22 Processor, Upto 2.0 GHz Pro...</td>\n",
       "      <td>5649</td>\n",
       "    </tr>\n",
       "    <tr>\n",
       "      <th>1</th>\n",
       "      <td>POCO M4 5G</td>\n",
       "      <td>4.2</td>\n",
       "      <td>77,128</td>\n",
       "      <td>4096</td>\n",
       "      <td>64</td>\n",
       "      <td>50MP + 2MP</td>\n",
       "      <td>8MP Front Camera</td>\n",
       "      <td>5000</td>\n",
       "      <td>Mediatek Dimensity 700 Processor</td>\n",
       "      <td>11999</td>\n",
       "    </tr>\n",
       "    <tr>\n",
       "      <th>2</th>\n",
       "      <td>POCO C51</td>\n",
       "      <td>4.3</td>\n",
       "      <td>15,175</td>\n",
       "      <td>4096</td>\n",
       "      <td>64</td>\n",
       "      <td>8MP Dual Rear Camera</td>\n",
       "      <td>5MP Front Camera</td>\n",
       "      <td>5000</td>\n",
       "      <td>Helio G36 Processor</td>\n",
       "      <td>6999</td>\n",
       "    </tr>\n",
       "    <tr>\n",
       "      <th>3</th>\n",
       "      <td>POCO C55</td>\n",
       "      <td>4.2</td>\n",
       "      <td>22,621</td>\n",
       "      <td>4096</td>\n",
       "      <td>64</td>\n",
       "      <td>50MP Dual Rear Camera</td>\n",
       "      <td>5MP Front Camera</td>\n",
       "      <td>5000</td>\n",
       "      <td>Mediatek Helio G85 Processor</td>\n",
       "      <td>7749</td>\n",
       "    </tr>\n",
       "    <tr>\n",
       "      <th>4</th>\n",
       "      <td>POCO C51</td>\n",
       "      <td>4.3</td>\n",
       "      <td>15,175</td>\n",
       "      <td>4096</td>\n",
       "      <td>64</td>\n",
       "      <td>8MP Dual Rear Camera</td>\n",
       "      <td>5MP Front Camera</td>\n",
       "      <td>5000</td>\n",
       "      <td>Helio G36 Processor</td>\n",
       "      <td>6999</td>\n",
       "    </tr>\n",
       "  </tbody>\n",
       "</table>\n",
       "</div>"
      ],
      "text/plain": [
       "   Phone Name  Rating ?/5 Number of Ratings   RAM  ROM/Storage  \\\n",
       "0    POCO C50         4.2            33,561  2048           32   \n",
       "1  POCO M4 5G         4.2            77,128  4096           64   \n",
       "2    POCO C51         4.3            15,175  4096           64   \n",
       "3    POCO C55         4.2            22,621  4096           64   \n",
       "4    POCO C51         4.3            15,175  4096           64   \n",
       "\n",
       "        Back/Rare Camera      Front Camera Battery  \\\n",
       "0        8MP Dual Camera  5MP Front Camera   5000    \n",
       "1             50MP + 2MP  8MP Front Camera   5000    \n",
       "2   8MP Dual Rear Camera  5MP Front Camera   5000    \n",
       "3  50MP Dual Rear Camera  5MP Front Camera   5000    \n",
       "4   8MP Dual Rear Camera  5MP Front Camera   5000    \n",
       "\n",
       "                                           Processor  Price in INR  \n",
       "0  Mediatek Helio A22 Processor, Upto 2.0 GHz Pro...          5649  \n",
       "1                   Mediatek Dimensity 700 Processor         11999  \n",
       "2                                Helio G36 Processor          6999  \n",
       "3                       Mediatek Helio G85 Processor          7749  \n",
       "4                                Helio G36 Processor          6999  "
      ]
     },
     "execution_count": 29,
     "metadata": {},
     "output_type": "execute_result"
    }
   ],
   "source": [
    "df.head(5)"
   ]
  },
  {
   "cell_type": "code",
   "execution_count": 30,
   "id": "9bbcda61-c817-46f6-906e-c7682f65524c",
   "metadata": {},
   "outputs": [],
   "source": [
    "df[\"Number of Ratings\"]=df[\"Number of Ratings\"].str.replace(',','')"
   ]
  },
  {
   "cell_type": "code",
   "execution_count": 31,
   "id": "6d2e724c-c555-4293-8c31-63405004e58a",
   "metadata": {},
   "outputs": [
    {
     "name": "stdout",
     "output_type": "stream",
     "text": [
      "<class 'pandas.core.frame.DataFrame'>\n",
      "Index: 1249 entries, 0 to 1835\n",
      "Data columns (total 10 columns):\n",
      " #   Column             Non-Null Count  Dtype  \n",
      "---  ------             --------------  -----  \n",
      " 0   Phone Name         1249 non-null   object \n",
      " 1   Rating ?/5         1249 non-null   float64\n",
      " 2   Number of Ratings  1249 non-null   object \n",
      " 3   RAM                1249 non-null   int64  \n",
      " 4   ROM/Storage        1249 non-null   int64  \n",
      " 5   Back/Rare Camera   1249 non-null   object \n",
      " 6   Front Camera       1249 non-null   object \n",
      " 7   Battery            1249 non-null   object \n",
      " 8   Processor          1249 non-null   object \n",
      " 9   Price in INR       1249 non-null   int64  \n",
      "dtypes: float64(1), int64(3), object(6)\n",
      "memory usage: 107.3+ KB\n"
     ]
    }
   ],
   "source": [
    "df.info()"
   ]
  },
  {
   "cell_type": "code",
   "execution_count": 32,
   "id": "d53ea18d-6ea8-4aa1-a012-b3139573f0f5",
   "metadata": {},
   "outputs": [],
   "source": [
    "df['Number of Ratings']=df['Number of Ratings'].astype(int)"
   ]
  },
  {
   "cell_type": "code",
   "execution_count": 33,
   "id": "76d0078e-7bc9-4c1f-9a48-476a527c8f10",
   "metadata": {},
   "outputs": [
    {
     "name": "stdout",
     "output_type": "stream",
     "text": [
      "<class 'pandas.core.frame.DataFrame'>\n",
      "Index: 1249 entries, 0 to 1835\n",
      "Data columns (total 10 columns):\n",
      " #   Column             Non-Null Count  Dtype  \n",
      "---  ------             --------------  -----  \n",
      " 0   Phone Name         1249 non-null   object \n",
      " 1   Rating ?/5         1249 non-null   float64\n",
      " 2   Number of Ratings  1249 non-null   int64  \n",
      " 3   RAM                1249 non-null   int64  \n",
      " 4   ROM/Storage        1249 non-null   int64  \n",
      " 5   Back/Rare Camera   1249 non-null   object \n",
      " 6   Front Camera       1249 non-null   object \n",
      " 7   Battery            1249 non-null   object \n",
      " 8   Processor          1249 non-null   object \n",
      " 9   Price in INR       1249 non-null   int64  \n",
      "dtypes: float64(1), int64(4), object(5)\n",
      "memory usage: 107.3+ KB\n"
     ]
    }
   ],
   "source": [
    "df.info()"
   ]
  },
  {
   "cell_type": "code",
   "execution_count": 34,
   "id": "97f8f641-30e3-4441-be8d-a42b79bd1f0e",
   "metadata": {},
   "outputs": [
    {
     "data": {
      "text/plain": [
       "np.float64(-0.1535863215431366)"
      ]
     },
     "execution_count": 34,
     "metadata": {},
     "output_type": "execute_result"
    }
   ],
   "source": [
    "df['Battery'].corr(df['Price in INR'])"
   ]
  },
  {
   "cell_type": "code",
   "execution_count": 35,
   "id": "9e9b9984-bae8-4607-986e-3be5f80ee20b",
   "metadata": {},
   "outputs": [
    {
     "data": {
      "text/plain": [
       "np.float64(-0.02859158416619587)"
      ]
     },
     "execution_count": 35,
     "metadata": {},
     "output_type": "execute_result"
    }
   ],
   "source": [
    "df['Rating ?/5'].corr(df['Price in INR'])"
   ]
  },
  {
   "cell_type": "code",
   "execution_count": 36,
   "id": "da7249f8-9fbe-4314-b356-ddc3ff0bb7eb",
   "metadata": {},
   "outputs": [
    {
     "data": {
      "text/plain": [
       "np.float64(-0.2095229014951694)"
      ]
     },
     "execution_count": 36,
     "metadata": {},
     "output_type": "execute_result"
    }
   ],
   "source": [
    "df['Number of Ratings'].corr(df['Price in INR'])"
   ]
  },
  {
   "cell_type": "code",
   "execution_count": 37,
   "id": "fd28e1c0-2cb8-4ce8-b49b-56c99bff3c92",
   "metadata": {},
   "outputs": [
    {
     "data": {
      "text/html": [
       "<div>\n",
       "<style scoped>\n",
       "    .dataframe tbody tr th:only-of-type {\n",
       "        vertical-align: middle;\n",
       "    }\n",
       "\n",
       "    .dataframe tbody tr th {\n",
       "        vertical-align: top;\n",
       "    }\n",
       "\n",
       "    .dataframe thead th {\n",
       "        text-align: right;\n",
       "    }\n",
       "</style>\n",
       "<table border=\"1\" class=\"dataframe\">\n",
       "  <thead>\n",
       "    <tr style=\"text-align: right;\">\n",
       "      <th></th>\n",
       "      <th>Phone Name</th>\n",
       "      <th>Rating ?/5</th>\n",
       "      <th>Number of Ratings</th>\n",
       "      <th>RAM</th>\n",
       "      <th>ROM/Storage</th>\n",
       "      <th>Back/Rare Camera</th>\n",
       "      <th>Front Camera</th>\n",
       "      <th>Battery</th>\n",
       "      <th>Processor</th>\n",
       "      <th>Price in INR</th>\n",
       "    </tr>\n",
       "  </thead>\n",
       "  <tbody>\n",
       "    <tr>\n",
       "      <th>0</th>\n",
       "      <td>POCO C50</td>\n",
       "      <td>4.2</td>\n",
       "      <td>33561</td>\n",
       "      <td>2048</td>\n",
       "      <td>32</td>\n",
       "      <td>8MP Dual Camera</td>\n",
       "      <td>5MP Front Camera</td>\n",
       "      <td>5000</td>\n",
       "      <td>Mediatek Helio A22 Processor, Upto 2.0 GHz Pro...</td>\n",
       "      <td>5649</td>\n",
       "    </tr>\n",
       "    <tr>\n",
       "      <th>1</th>\n",
       "      <td>POCO M4 5G</td>\n",
       "      <td>4.2</td>\n",
       "      <td>77128</td>\n",
       "      <td>4096</td>\n",
       "      <td>64</td>\n",
       "      <td>50MP + 2MP</td>\n",
       "      <td>8MP Front Camera</td>\n",
       "      <td>5000</td>\n",
       "      <td>Mediatek Dimensity 700 Processor</td>\n",
       "      <td>11999</td>\n",
       "    </tr>\n",
       "    <tr>\n",
       "      <th>2</th>\n",
       "      <td>POCO C51</td>\n",
       "      <td>4.3</td>\n",
       "      <td>15175</td>\n",
       "      <td>4096</td>\n",
       "      <td>64</td>\n",
       "      <td>8MP Dual Rear Camera</td>\n",
       "      <td>5MP Front Camera</td>\n",
       "      <td>5000</td>\n",
       "      <td>Helio G36 Processor</td>\n",
       "      <td>6999</td>\n",
       "    </tr>\n",
       "    <tr>\n",
       "      <th>3</th>\n",
       "      <td>POCO C55</td>\n",
       "      <td>4.2</td>\n",
       "      <td>22621</td>\n",
       "      <td>4096</td>\n",
       "      <td>64</td>\n",
       "      <td>50MP Dual Rear Camera</td>\n",
       "      <td>5MP Front Camera</td>\n",
       "      <td>5000</td>\n",
       "      <td>Mediatek Helio G85 Processor</td>\n",
       "      <td>7749</td>\n",
       "    </tr>\n",
       "    <tr>\n",
       "      <th>4</th>\n",
       "      <td>POCO C51</td>\n",
       "      <td>4.3</td>\n",
       "      <td>15175</td>\n",
       "      <td>4096</td>\n",
       "      <td>64</td>\n",
       "      <td>8MP Dual Rear Camera</td>\n",
       "      <td>5MP Front Camera</td>\n",
       "      <td>5000</td>\n",
       "      <td>Helio G36 Processor</td>\n",
       "      <td>6999</td>\n",
       "    </tr>\n",
       "    <tr>\n",
       "      <th>...</th>\n",
       "      <td>...</td>\n",
       "      <td>...</td>\n",
       "      <td>...</td>\n",
       "      <td>...</td>\n",
       "      <td>...</td>\n",
       "      <td>...</td>\n",
       "      <td>...</td>\n",
       "      <td>...</td>\n",
       "      <td>...</td>\n",
       "      <td>...</td>\n",
       "    </tr>\n",
       "    <tr>\n",
       "      <th>1831</th>\n",
       "      <td>Infinix Note 7</td>\n",
       "      <td>4.3</td>\n",
       "      <td>25582</td>\n",
       "      <td>4096</td>\n",
       "      <td>64</td>\n",
       "      <td>48MP + 2MP + 2MP + AI Lens Camera</td>\n",
       "      <td>16MP Front Camera</td>\n",
       "      <td>5000</td>\n",
       "      <td>MediaTek Helio G70 Processor</td>\n",
       "      <td>14999</td>\n",
       "    </tr>\n",
       "    <tr>\n",
       "      <th>1832</th>\n",
       "      <td>Infinix Note 7</td>\n",
       "      <td>4.3</td>\n",
       "      <td>25582</td>\n",
       "      <td>4096</td>\n",
       "      <td>64</td>\n",
       "      <td>48MP + 2MP + 2MP + AI Lens Camera</td>\n",
       "      <td>16MP Front Camera</td>\n",
       "      <td>5000</td>\n",
       "      <td>MediaTek Helio G70 Processor</td>\n",
       "      <td>14999</td>\n",
       "    </tr>\n",
       "    <tr>\n",
       "      <th>1833</th>\n",
       "      <td>Infinix Note 7</td>\n",
       "      <td>4.3</td>\n",
       "      <td>25582</td>\n",
       "      <td>4096</td>\n",
       "      <td>64</td>\n",
       "      <td>48MP + 2MP + 2MP + AI Lens Camera</td>\n",
       "      <td>16MP Front Camera</td>\n",
       "      <td>5000</td>\n",
       "      <td>MediaTek Helio G70 Processor</td>\n",
       "      <td>14999</td>\n",
       "    </tr>\n",
       "    <tr>\n",
       "      <th>1834</th>\n",
       "      <td>Infinix Zero 8i</td>\n",
       "      <td>4.2</td>\n",
       "      <td>7117</td>\n",
       "      <td>8192</td>\n",
       "      <td>128</td>\n",
       "      <td>48MP + 8MP + 2MP + AI Lens Camera</td>\n",
       "      <td>16MP + 8MP Dual Front Camera</td>\n",
       "      <td>4500</td>\n",
       "      <td>MediaTek Helio G90T Processor</td>\n",
       "      <td>18999</td>\n",
       "    </tr>\n",
       "    <tr>\n",
       "      <th>1835</th>\n",
       "      <td>Infinix S5</td>\n",
       "      <td>4.3</td>\n",
       "      <td>15701</td>\n",
       "      <td>4096</td>\n",
       "      <td>64</td>\n",
       "      <td>16MP + 5MP + 2MP + Low Light Sensor</td>\n",
       "      <td>32MP Front Camera</td>\n",
       "      <td>4000</td>\n",
       "      <td>Helio P22 (MTK6762) Processor</td>\n",
       "      <td>10999</td>\n",
       "    </tr>\n",
       "  </tbody>\n",
       "</table>\n",
       "<p>1249 rows × 10 columns</p>\n",
       "</div>"
      ],
      "text/plain": [
       "           Phone Name  Rating ?/5  Number of Ratings   RAM  ROM/Storage  \\\n",
       "0            POCO C50         4.2              33561  2048           32   \n",
       "1          POCO M4 5G         4.2              77128  4096           64   \n",
       "2            POCO C51         4.3              15175  4096           64   \n",
       "3            POCO C55         4.2              22621  4096           64   \n",
       "4            POCO C51         4.3              15175  4096           64   \n",
       "...               ...         ...                ...   ...          ...   \n",
       "1831   Infinix Note 7         4.3              25582  4096           64   \n",
       "1832   Infinix Note 7         4.3              25582  4096           64   \n",
       "1833   Infinix Note 7         4.3              25582  4096           64   \n",
       "1834  Infinix Zero 8i         4.2               7117  8192          128   \n",
       "1835       Infinix S5         4.3              15701  4096           64   \n",
       "\n",
       "                         Back/Rare Camera                  Front Camera  \\\n",
       "0                         8MP Dual Camera              5MP Front Camera   \n",
       "1                              50MP + 2MP              8MP Front Camera   \n",
       "2                    8MP Dual Rear Camera              5MP Front Camera   \n",
       "3                   50MP Dual Rear Camera              5MP Front Camera   \n",
       "4                    8MP Dual Rear Camera              5MP Front Camera   \n",
       "...                                   ...                           ...   \n",
       "1831    48MP + 2MP + 2MP + AI Lens Camera             16MP Front Camera   \n",
       "1832    48MP + 2MP + 2MP + AI Lens Camera             16MP Front Camera   \n",
       "1833    48MP + 2MP + 2MP + AI Lens Camera             16MP Front Camera   \n",
       "1834    48MP + 8MP + 2MP + AI Lens Camera  16MP + 8MP Dual Front Camera   \n",
       "1835  16MP + 5MP + 2MP + Low Light Sensor             32MP Front Camera   \n",
       "\n",
       "     Battery                                          Processor  Price in INR  \n",
       "0      5000   Mediatek Helio A22 Processor, Upto 2.0 GHz Pro...          5649  \n",
       "1      5000                    Mediatek Dimensity 700 Processor         11999  \n",
       "2      5000                                 Helio G36 Processor          6999  \n",
       "3      5000                        Mediatek Helio G85 Processor          7749  \n",
       "4      5000                                 Helio G36 Processor          6999  \n",
       "...      ...                                                ...           ...  \n",
       "1831   5000                        MediaTek Helio G70 Processor         14999  \n",
       "1832   5000                        MediaTek Helio G70 Processor         14999  \n",
       "1833   5000                        MediaTek Helio G70 Processor         14999  \n",
       "1834   4500                       MediaTek Helio G90T Processor         18999  \n",
       "1835   4000                       Helio P22 (MTK6762) Processor         10999  \n",
       "\n",
       "[1249 rows x 10 columns]"
      ]
     },
     "execution_count": 37,
     "metadata": {},
     "output_type": "execute_result"
    }
   ],
   "source": [
    "df"
   ]
  },
  {
   "cell_type": "code",
   "execution_count": 38,
   "id": "865fd3d7-1da4-4a92-a128-3bf8ecd1a8f0",
   "metadata": {},
   "outputs": [
    {
     "data": {
      "text/plain": [
       "array(['5MP Front Camera', '8MP Front Camera', '16MP Front Camera',\n",
       "       '13MP Front Camera', '20MP + 2MP Dual Front Camera',\n",
       "       '20MP Front Camera', '32MP + 8MP Dual Front Camera',\n",
       "       '32MP Front Camera', '16MP + 8MP Dual Front Camera',\n",
       "       '10MP Front Camera', '12MP Front Camera', '25MP Front Camera',\n",
       "       '32MP + 2MP Dual Front Camera', '16MP + 2MP Dual Front Camera',\n",
       "       '16MP Dual Front Camera', '44MP + 2MP Dual Front Camera',\n",
       "       '10.8MP Front Camera', '8MP + 8MP Dual Front Camera',\n",
       "       '50MP Front Camera', '50MP + 8MP Dual Front Camera',\n",
       "       '44MP Front Camera', '24MP Front Camera', '1.6MP Front Camera',\n",
       "       '4MP Front Camera', '2MP Front Camera',\n",
       "       '8MP + 2MP Dual Front Camera', '60MP Front Camera',\n",
       "       '0.3MP Front Camera', '1.3MP Front Camera',\n",
       "       '13MP + 5MP Dual Front Camera', '60 MP with OIS'], dtype=object)"
      ]
     },
     "execution_count": 38,
     "metadata": {},
     "output_type": "execute_result"
    }
   ],
   "source": [
    "df['Front Camera'].unique()"
   ]
  },
  {
   "cell_type": "code",
   "execution_count": 39,
   "id": "c173d5e2-32be-4fc6-b047-775b439d67a1",
   "metadata": {},
   "outputs": [
    {
     "data": {
      "text/plain": [
       "array(['8MP Dual Camera', '50MP + 2MP', '8MP Dual Rear Camera',\n",
       "       '50MP Dual Rear Camera',\n",
       "       '50MP + 2MP Depth Sensor + 2MP Macro Sensor', '64MP + 8MP + 2MP',\n",
       "       '48MP + 8MP + 2MP', '50MP + 8MP', '108MP + 8MP + 2MP',\n",
       "       '48MP + 2MP + 2MP', '64MP (OIS) + 8MP + 2MP', '13MP + 2MP + 2MP',\n",
       "       '64MP + 8MP + 2MP + 2MP', '12MP + 5MP', '13MP + 8MP + 5MP + 2MP',\n",
       "       '48MP + 8MP + 5MP + 2MP', '48MP + 8MP + 2MP + 2MP',\n",
       "       '64MP + 13MP + 2MP + 2MP', '64MP + 2MP', '50MP + 0.3MP',\n",
       "       '8MP Rear Camera', '108MP + 2MP', '50MP + 2MP + 2MP',\n",
       "       '50MP + 2MP + 0.3MP', '50MP + 8MP + 2MP', '13MP + 2MP + 0.3MP',\n",
       "       '50MP Rear Camera', '64MP + 8MP + 8MP + 2MP',\n",
       "       '64MP + 12MP + 8MP + 2MP', '13MP + 2MP', '50MP + 5MP + 2MP',\n",
       "       '50MP + 12MP + 10MP', '50MP + 5MP', '12MP + 12MP',\n",
       "       '48MP + 8MP + 5MP', '50MP + 12MP + 5MP', '12MP + 12MP + 8MP (OIS)',\n",
       "       '12MP + 12MP + 8MP Rear Camera', '50MP + 50MP + 2MP + 2MP',\n",
       "       '50MP + 10MP + 12MP', '200MP + 10MP + 12MP + 10MP',\n",
       "       '50MP + 5MP + 2MP + 2MP', '48MP + 5MP + 2MP + 2MP',\n",
       "       '25MP + 5MP + 8MP', '64MP + 5MP + 2MP', '64MP + 12MP + 5MP + 5MP',\n",
       "       '48MP + 2MP', '108MP + 12MP + 5MP + 5MP', '12MP Rear Camera',\n",
       "       '48MP Rear Camera', '64MP + 8MP + 5MP + 5MP', '13MP + 5MP + 2MP',\n",
       "       '5MP Rear Camera', '13MP Rear Camera', '48MP + 8MP',\n",
       "       '13MP + 8MP + 5MP', '50MP + 0.3MP + 0.3MP', '108MP + 2MP + 2MP',\n",
       "       '64MP + 2MP + 2MP', '64MP + 64MP + 2MP + 2MP', '12MP + 2MP + 2MP',\n",
       "       '64MP + 13MP + 8MP + 2MP', '16MP Rear Camera',\n",
       "       '12MP + 8MP + 2MP + 2MP', '12MP + 20MP', '16MP + 2MP',\n",
       "       '12.2MP + 12MP', '50MP + 12MP', '64MP (OIS) + 13MP',\n",
       "       '50MP + 48MP + 12MP', '12.2MP Rear Camera', '64 MP (OIS) + 2MP',\n",
       "       '50MP (OIS) + 8MP + 2MP', '64MP (OIS) + 2MP + 2MP',\n",
       "       '50MP + 12MP + 12MP', '50MP + 50MP + 12MP', '48MP + 13MP + 13MP',\n",
       "       '50MP + 12MP + 12MP + 8MP', '13MP + 8MP + 2MP + 2MP', '16MP + 5MP',\n",
       "       '13MP + 8MP + 2MP', '16MP + 2MP + 8MP', '48MP + 5MP + 8MP',\n",
       "       '64MP + 8MP', '50MP + 48MP + 32MP + 8MP', '50MP + 50MP',\n",
       "       '64MP + 13MP + 5MP', '64MP + 8MP + 5MP', '108MP + 8MP + 5MP',\n",
       "       '108MP Rear Camera', '48MP + 5MP', '108MP + 13MP + 5MP',\n",
       "       '48MP + 13MP + 8MP', '12MP + 2MP', '20MP + 12MP',\n",
       "       '108MP + 8MP + 2MP + 2MP', '108MP + 13MP + 2MP + 2MP', '8MP + 2MP',\n",
       "       '13MP + 2MP Dual Rear Camera', '13MP + 5MP', '50MP + 13MP',\n",
       "       '50MP + 13MP + 2MP', '50MP + 50MP + 2MP', '50MP + 8MP + 2MP + 2MP',\n",
       "       '200MP + 50MP + 12MP', '48MP + 5MP + 16MP', '108MP + 8MP + 16MP',\n",
       "       '108MP + 16MP + 8MP', '16MP + 2MP + 2MP', '16 MP + 20 MP',\n",
       "       '48MP + 2MP + 16MP', '48 MP + 8 MP + 16 MP',\n",
       "       '48 MP + 12 MP + 16 MP', '48MP +8MP+16MP', '16MP + 8MP + 2MP',\n",
       "       '24MP + 8MP + 2MP', '12.3MP Rear Camera', '16MP + 5MP + 8MP',\n",
       "       '48MP + 2MP + 16MP + 8MP', '13MP + AI Lens', '50MP + AI Lens',\n",
       "       '8MP + AI Lens', '108MP + 2MP (Depth) + 2MP (Macro)',\n",
       "       '50 MP + 2 MP + QVGA', '13Mp + AI Lens',\n",
       "       '50 MP + 2 MP Depth Lens + AI Lens', '50MP + 2MP Depth + AI Lens',\n",
       "       '108MP + 13MP + 2MP', '8 MP + Depth Lens', '13MP + Depth Lens',\n",
       "       '108MP + 2MP Depth Lens + AI lens', '50 MP + Depth Lens',\n",
       "       '50 MP + 2 MP Depth Lens + 2 MP Macro Lens', '8MP + Depth Sensor',\n",
       "       '13 MP + 2 MP Depth Lens', '50 MP + 2 MP + AI Lens',\n",
       "       '50MP + 2MP + AI Lens', '200MP + 13MP + 2MP',\n",
       "       '48 MP + 13 MP Portrait Lens + 2 MP Bokeh Lens',\n",
       "       '50 MP + 2 MP Depth Lens + AI lens', '13MP + Low Light Sensor',\n",
       "       '13MP + Depth Sensor', '48MP + 2MP + 2MP + AI Lens Camera',\n",
       "       '48MP + 8MP + 2MP + AI Lens Camera',\n",
       "       '16MP + 5MP + 2MP + Low Light Sensor'], dtype=object)"
      ]
     },
     "execution_count": 39,
     "metadata": {},
     "output_type": "execute_result"
    }
   ],
   "source": [
    "df['Back/Rare Camera'].unique()"
   ]
  },
  {
   "cell_type": "code",
   "execution_count": 40,
   "id": "f0b383c4-8b4f-4ab0-bb6e-c89f5c97fa21",
   "metadata": {},
   "outputs": [
    {
     "data": {
      "text/plain": [
       "np.float64(0.6549267439195038)"
      ]
     },
     "execution_count": 40,
     "metadata": {},
     "output_type": "execute_result"
    }
   ],
   "source": [
    "df['RAM'].corr(df['Price in INR'])"
   ]
  },
  {
   "cell_type": "code",
   "execution_count": 41,
   "id": "249df065-642e-4d7d-9f50-cabb95540e7c",
   "metadata": {},
   "outputs": [
    {
     "data": {
      "text/plain": [
       "np.float64(0.6769377440413465)"
      ]
     },
     "execution_count": 41,
     "metadata": {},
     "output_type": "execute_result"
    }
   ],
   "source": [
    "df['ROM/Storage'].corr(df['Price in INR'])"
   ]
  },
  {
   "cell_type": "code",
   "execution_count": 42,
   "id": "340cfe1b-23c8-4b33-9c85-64ba4c2946e3",
   "metadata": {},
   "outputs": [],
   "source": [
    "df.drop(columns=['Number of Ratings'], inplace=True)"
   ]
  },
  {
   "cell_type": "code",
   "execution_count": 43,
   "id": "c8016a1c-5e8b-4598-a58b-67965cd38001",
   "metadata": {},
   "outputs": [],
   "source": [
    "df.drop(columns=['Rating ?/5'],inplace=True)"
   ]
  },
  {
   "cell_type": "code",
   "execution_count": 44,
   "id": "c6f6b87d-17cf-4009-a110-055480137a3d",
   "metadata": {},
   "outputs": [],
   "source": [
    "df['Processor']=df['Processor'].apply(lambda x:x.split()[0])"
   ]
  },
  {
   "cell_type": "code",
   "execution_count": 45,
   "id": "ef9d242a-4dfd-4d32-bb79-5c98080b91a8",
   "metadata": {},
   "outputs": [
    {
     "data": {
      "text/plain": [
       "Processor\n",
       "Qualcomm             430\n",
       "Mediatek             263\n",
       "MediaTek             212\n",
       "Unisoc                82\n",
       "Exynos                46\n",
       "Dimensity             34\n",
       "1                     24\n",
       "Helio                 18\n",
       "Snapdragon            15\n",
       "Qualcomm®             12\n",
       "Octa                  11\n",
       "Google                11\n",
       "MTK                   10\n",
       "SEC                    9\n",
       "G37                    8\n",
       "Spreadtrum             7\n",
       "2.0                    7\n",
       "Octa-core              4\n",
       "Brand                  4\n",
       "Octa-core(EXYNOS)      4\n",
       "Meditek                4\n",
       "HUAWEI                 3\n",
       "2nd-gen                3\n",
       "Tensor                 3\n",
       "UniSoc                 3\n",
       "SC9863A                3\n",
       "MTK8735                2\n",
       "UNISOC                 2\n",
       "HiSilicon              2\n",
       "MTK6737                2\n",
       "Cortex-A7              1\n",
       "Samsung                1\n",
       "MSM8952                1\n",
       "MSM8228                1\n",
       "MT6589                 1\n",
       "MT6762                 1\n",
       "12                     1\n",
       "MT6737M                1\n",
       "SDM710                 1\n",
       "Turbo                  1\n",
       "Kirin                  1\n",
       "Name: count, dtype: int64"
      ]
     },
     "execution_count": 45,
     "metadata": {},
     "output_type": "execute_result"
    }
   ],
   "source": [
    "df['Processor'].value_counts()"
   ]
  },
  {
   "cell_type": "code",
   "execution_count": 46,
   "id": "c299b36c-76d5-42b1-82ae-f627af522ead",
   "metadata": {},
   "outputs": [],
   "source": [
    "df['Front Camera'] = df['Front Camera'].apply(\n",
    "    lambda x: int(float(x.split()[0].replace('MP', '').replace('M', '').strip()))  \n",
    "    if isinstance(x, str) and x.split()[0].replace('MP', '').replace('M', '').strip().replace('.', '', 1).isdigit()  \n",
    "    else np.nan\n",
    ")\n",
    "\n",
    "df = df.dropna(subset=['Front Camera'])\n",
    "\n",
    "df['Front Camera'] = df['Front Camera'].astype(int)\n"
   ]
  },
  {
   "cell_type": "code",
   "execution_count": 47,
   "id": "40482f03-4322-42f0-aa6a-dd3a7574d59e",
   "metadata": {},
   "outputs": [
    {
     "data": {
      "text/plain": [
       "array([ 5,  8, 16, 13, 20, 32, 10, 12, 25, 44, 50, 24,  1,  4,  2, 60,  0])"
      ]
     },
     "execution_count": 47,
     "metadata": {},
     "output_type": "execute_result"
    }
   ],
   "source": [
    "df['Front Camera'].unique()"
   ]
  },
  {
   "cell_type": "code",
   "execution_count": 48,
   "id": "b031565a-1945-40c5-a385-14222b374bae",
   "metadata": {},
   "outputs": [],
   "source": [
    "df.drop(columns=['Back/Rare Camera'],inplace=True)"
   ]
  },
  {
   "cell_type": "code",
   "execution_count": 49,
   "id": "0000dbf7-e7ea-466b-9fbe-81df18c8785b",
   "metadata": {},
   "outputs": [
    {
     "data": {
      "text/html": [
       "<div>\n",
       "<style scoped>\n",
       "    .dataframe tbody tr th:only-of-type {\n",
       "        vertical-align: middle;\n",
       "    }\n",
       "\n",
       "    .dataframe tbody tr th {\n",
       "        vertical-align: top;\n",
       "    }\n",
       "\n",
       "    .dataframe thead th {\n",
       "        text-align: right;\n",
       "    }\n",
       "</style>\n",
       "<table border=\"1\" class=\"dataframe\">\n",
       "  <thead>\n",
       "    <tr style=\"text-align: right;\">\n",
       "      <th></th>\n",
       "      <th>Phone Name</th>\n",
       "      <th>RAM</th>\n",
       "      <th>ROM/Storage</th>\n",
       "      <th>Front Camera</th>\n",
       "      <th>Battery</th>\n",
       "      <th>Processor</th>\n",
       "      <th>Price in INR</th>\n",
       "    </tr>\n",
       "  </thead>\n",
       "  <tbody>\n",
       "    <tr>\n",
       "      <th>0</th>\n",
       "      <td>POCO C50</td>\n",
       "      <td>2048</td>\n",
       "      <td>32</td>\n",
       "      <td>5</td>\n",
       "      <td>5000</td>\n",
       "      <td>Mediatek</td>\n",
       "      <td>5649</td>\n",
       "    </tr>\n",
       "    <tr>\n",
       "      <th>1</th>\n",
       "      <td>POCO M4 5G</td>\n",
       "      <td>4096</td>\n",
       "      <td>64</td>\n",
       "      <td>8</td>\n",
       "      <td>5000</td>\n",
       "      <td>Mediatek</td>\n",
       "      <td>11999</td>\n",
       "    </tr>\n",
       "    <tr>\n",
       "      <th>2</th>\n",
       "      <td>POCO C51</td>\n",
       "      <td>4096</td>\n",
       "      <td>64</td>\n",
       "      <td>5</td>\n",
       "      <td>5000</td>\n",
       "      <td>Helio</td>\n",
       "      <td>6999</td>\n",
       "    </tr>\n",
       "    <tr>\n",
       "      <th>3</th>\n",
       "      <td>POCO C55</td>\n",
       "      <td>4096</td>\n",
       "      <td>64</td>\n",
       "      <td>5</td>\n",
       "      <td>5000</td>\n",
       "      <td>Mediatek</td>\n",
       "      <td>7749</td>\n",
       "    </tr>\n",
       "    <tr>\n",
       "      <th>4</th>\n",
       "      <td>POCO C51</td>\n",
       "      <td>4096</td>\n",
       "      <td>64</td>\n",
       "      <td>5</td>\n",
       "      <td>5000</td>\n",
       "      <td>Helio</td>\n",
       "      <td>6999</td>\n",
       "    </tr>\n",
       "    <tr>\n",
       "      <th>...</th>\n",
       "      <td>...</td>\n",
       "      <td>...</td>\n",
       "      <td>...</td>\n",
       "      <td>...</td>\n",
       "      <td>...</td>\n",
       "      <td>...</td>\n",
       "      <td>...</td>\n",
       "    </tr>\n",
       "    <tr>\n",
       "      <th>1831</th>\n",
       "      <td>Infinix Note 7</td>\n",
       "      <td>4096</td>\n",
       "      <td>64</td>\n",
       "      <td>16</td>\n",
       "      <td>5000</td>\n",
       "      <td>MediaTek</td>\n",
       "      <td>14999</td>\n",
       "    </tr>\n",
       "    <tr>\n",
       "      <th>1832</th>\n",
       "      <td>Infinix Note 7</td>\n",
       "      <td>4096</td>\n",
       "      <td>64</td>\n",
       "      <td>16</td>\n",
       "      <td>5000</td>\n",
       "      <td>MediaTek</td>\n",
       "      <td>14999</td>\n",
       "    </tr>\n",
       "    <tr>\n",
       "      <th>1833</th>\n",
       "      <td>Infinix Note 7</td>\n",
       "      <td>4096</td>\n",
       "      <td>64</td>\n",
       "      <td>16</td>\n",
       "      <td>5000</td>\n",
       "      <td>MediaTek</td>\n",
       "      <td>14999</td>\n",
       "    </tr>\n",
       "    <tr>\n",
       "      <th>1834</th>\n",
       "      <td>Infinix Zero 8i</td>\n",
       "      <td>8192</td>\n",
       "      <td>128</td>\n",
       "      <td>16</td>\n",
       "      <td>4500</td>\n",
       "      <td>MediaTek</td>\n",
       "      <td>18999</td>\n",
       "    </tr>\n",
       "    <tr>\n",
       "      <th>1835</th>\n",
       "      <td>Infinix S5</td>\n",
       "      <td>4096</td>\n",
       "      <td>64</td>\n",
       "      <td>32</td>\n",
       "      <td>4000</td>\n",
       "      <td>Helio</td>\n",
       "      <td>10999</td>\n",
       "    </tr>\n",
       "  </tbody>\n",
       "</table>\n",
       "<p>1249 rows × 7 columns</p>\n",
       "</div>"
      ],
      "text/plain": [
       "           Phone Name   RAM  ROM/Storage  Front Camera Battery Processor  \\\n",
       "0            POCO C50  2048           32             5   5000   Mediatek   \n",
       "1          POCO M4 5G  4096           64             8   5000   Mediatek   \n",
       "2            POCO C51  4096           64             5   5000      Helio   \n",
       "3            POCO C55  4096           64             5   5000   Mediatek   \n",
       "4            POCO C51  4096           64             5   5000      Helio   \n",
       "...               ...   ...          ...           ...     ...       ...   \n",
       "1831   Infinix Note 7  4096           64            16   5000   MediaTek   \n",
       "1832   Infinix Note 7  4096           64            16   5000   MediaTek   \n",
       "1833   Infinix Note 7  4096           64            16   5000   MediaTek   \n",
       "1834  Infinix Zero 8i  8192          128            16   4500   MediaTek   \n",
       "1835       Infinix S5  4096           64            32   4000      Helio   \n",
       "\n",
       "      Price in INR  \n",
       "0             5649  \n",
       "1            11999  \n",
       "2             6999  \n",
       "3             7749  \n",
       "4             6999  \n",
       "...            ...  \n",
       "1831         14999  \n",
       "1832         14999  \n",
       "1833         14999  \n",
       "1834         18999  \n",
       "1835         10999  \n",
       "\n",
       "[1249 rows x 7 columns]"
      ]
     },
     "execution_count": 49,
     "metadata": {},
     "output_type": "execute_result"
    }
   ],
   "source": [
    "df"
   ]
  },
  {
   "cell_type": "code",
   "execution_count": 50,
   "id": "23a6945c-0780-4db6-961b-506f4206393b",
   "metadata": {},
   "outputs": [
    {
     "data": {
      "text/plain": [
       "np.float64(0.43539354618181675)"
      ]
     },
     "execution_count": 50,
     "metadata": {},
     "output_type": "execute_result"
    }
   ],
   "source": [
    "df['Front Camera'].corr(df['Price in INR'])"
   ]
  },
  {
   "cell_type": "code",
   "execution_count": 58,
   "id": "4b6d6014-3cae-43f7-aae4-d868d441b549",
   "metadata": {},
   "outputs": [
    {
     "data": {
      "image/png": "[encoded data removed]",
      "text/plain": [
       "<Figure size 2000x1000 with 1 Axes>"
      ]
     },
     "metadata": {},
     "output_type": "display_data"
    }
   ],
   "source": [
    "from sklearn.compose import ColumnTransformer\n",
    "from sklearn.preprocessing import OneHotEncoder\n",
    "from sklearn.pipeline import Pipeline\n",
    "from sklearn.tree import DecisionTreeRegressor, plot_tree\n",
    "from sklearn.model_selection import train_test_split\n",
    "import matplotlib.pyplot as plt\n",
    "\n",
    "X = df[['Phone Name', 'RAM', 'ROM/Storage', 'Front Camera', 'Battery', 'Processor']]  \n",
    "y = df['Price in INR']\n",
    "\n",
    "step1 = ColumnTransformer(\n",
    "    transformers=[\n",
    "        ('col_tnf', OneHotEncoder(handle_unknown='ignore'), ['Phone Name', 'Processor'])\n",
    "    ],\n",
    "    remainder='passthrough'\n",
    ")\n",
    "pipe = Pipeline(steps=[\n",
    "    ('preprocessor', step1),\n",
    "    ('regressor', DecisionTreeRegressor(random_state=42))\n",
    "])\n",
    "\n",
    "X_train, X_test, y_train, y_test = train_test_split(X, y, test_size=0.2, random_state=42)\n",
    "\n",
    "pipe.fit(X_train, y_train)\n",
    "\n",
    "regressor = pipe.named_steps['regressor']\n",
    "plt.figure(figsize=(20, 10))\n",
    "plot_tree(\n",
    "    regressor,\n",
    "    filled=True,\n",
    "    fontsize=10\n",
    ")\n",
    "plt.title(\"Decision Tree Regressor\")\n",
    "plt.show()\n"
   ]
  },
  {
   "cell_type": "code",
   "execution_count": 59,
   "id": "40caba66-5a83-4b31-8d85-9cd0337760c9",
   "metadata": {},
   "outputs": [
    {
     "name": "stdout",
     "output_type": "stream",
     "text": [
      "0.9100665614355565\n"
     ]
    }
   ],
   "source": [
    "from sklearn.metrics import r2_score, mean_absolute_error, mean_squared_error\n",
    "\n",
    "y_pred = pipe.predict(X_test)\n",
    "\n",
    "r2 = r2_score(y_test, y_pred)\n",
    "print(r2)\n",
    "\n"
   ]
  },
  {
   "cell_type": "code",
   "execution_count": 60,
   "id": "53acd949-be12-4c36-b92f-8750cb0b2d8e",
   "metadata": {},
   "outputs": [
    {
     "name": "stdout",
     "output_type": "stream",
     "text": [
      "Predicted Price for the new product: 18999.0 INR\n"
     ]
    }
   ],
   "source": [
    "\n",
    "new_product = pd.DataFrame({\n",
    "    'Phone Name': ['NewPhone Model X'],  \n",
    "    'RAM': [6000],                     \n",
    "    'ROM/Storage': [128],              \n",
    "    'Front Camera': [16],              \n",
    "    'Battery': [4500],                  \n",
    "    'Processor': ['Octa-core 2.0GHz'] \n",
    "})\n",
    "\n",
    "predicted_price = pipe.predict(new_product)\n",
    "print(f\"Predicted Price for the new product: {predicted_price[0]} INR\")\n"
   ]
  },
  {
   "cell_type": "code",
   "execution_count": null,
   "id": "d147814e-fa81-4376-af94-1486bc11acc6",
   "metadata": {},
   "outputs": [],
   "source": []
  }
 ],
 "metadata": {
  "kernelspec": {
   "display_name": "Python 3 (ipykernel)",
   "language": "python",
   "name": "python3"
  },
  "language_info": {
   "codemirror_mode": {
    "name": "ipython",
    "version": 3
   },
   "file_extension": ".py",
   "mimetype": "text/x-python",
   "name": "python",
   "nbconvert_exporter": "python",
   "pygments_lexer": "ipython3",
   "version": "3.12.7"
  }
 },
 "nbformat": 4,
 "nbformat_minor": 5
}
